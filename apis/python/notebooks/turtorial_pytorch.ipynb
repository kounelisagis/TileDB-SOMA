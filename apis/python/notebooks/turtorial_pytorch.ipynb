{
 "cells": [
  {
   "cell_type": "markdown",
   "metadata": {},
   "source": [
    "# Training a PyTorch Model\n",
    "\n",
    "This tutorial shows how to train a Logistic Regression model in PyTorch using the `tiledbsoma.ml.ExperimentDataPipe` class, and the [CZI CELLxGENE Census](https://chanzuckerberg.github.io/cellxgene-census/) dataset. This is intended only to demonstrate the use of the `ExperimentDataPipe`, and not as an example of how to train a biologically useful model.\n",
    "\n",
    "This tutorial assumes a basic familiarity with PyTorch and the Census API.\n",
    "\n",
    "**Prerequisites**\n",
    "\n",
    "Install `tiledbsoma` with the optional `ml` dependencies, for example:\n",
    "\n",
    "> pip install tiledbsoma[ml]\n",
    "\n",
    "\n",
    "**Contents**\n",
    "\n",
    "* [Create a DataLoader](#Create-a-DataLoader)\n",
    "* [Define the model](#Define-the-model)\n",
    "* [Train the model](#Train-the-model)\n",
    "* [Make predictions with the model](#Make-predictions-with-the-model)\n"
   ]
  },
  {
   "cell_type": "markdown",
   "metadata": {},
   "source": [
    "## Create an ExperimentDataPipe\n",
    "\n",
    "To train a model in PyTorch using this `census` data object, first instantiate open a SOMA Experiment, and create a `ExperimentDataPipe`. This example utilizes a recent CZI Census release, access directly from S3."
   ]
  },
  {
   "cell_type": "code",
   "execution_count": 1,
   "metadata": {},
   "outputs": [],
   "source": [
    "import tiledbsoma as soma\n",
    "import tiledbsoma.ml as soma_ml\n",
    "\n",
    "CZI_Census_Homo_Sapiens_URL = (\n",
    "    \"s3://cellxgene-census-public-us-west-2/cell-census/2024-07-01/soma/census_data/homo_sapiens/\"\n",
    ")\n",
    "\n",
    "experiment = soma.open(\n",
    "    CZI_Census_Homo_Sapiens_URL, context=soma.SOMATileDBContext(tiledb_config={\"vfs.s3.region\": \"us-west-2\"})\n",
    ")\n",
    "\n",
    "experiment_datapipe = soma_ml.ExperimentDataPipe(\n",
    "    experiment,\n",
    "    measurement_name=\"RNA\",\n",
    "    X_name=\"raw\",\n",
    "    obs_query=soma.AxisQuery(value_filter=\"tissue_general == 'tongue' and is_primary_data == True\"),\n",
    "    obs_column_names=[\"cell_type\"],\n",
    "    batch_size=128,\n",
    "    shuffle=True,\n",
    "    soma_chunk_size=10_000,\n",
    ")\n"
   ]
  },
  {
   "cell_type": "markdown",
   "metadata": {},
   "source": [
    "### `ExperimentDataPipe` class explained\n",
    "\n",
    "This class provides an implementation of PyTorch's [DataPipe interface](https://pytorch.org/data/main/torchdata.datapipes.iter.html), which defines a common mechanism for wrapping and accessing training data from any underlying source. The `ExperimentDataPipe` class encapsulates the details of querying and retrieving Census data from a single SOMA `Experiment` and returning it to the caller as PyTorch Tensors. Most importantly, it retrieves the data lazily from the Census in batches, avoiding having to load the entire training dataset into memory at once. (Note: PyTorch also provides `DataSet` as a legacy interface for wrapping and accessing training data sources, but a `DataPipe` can be used interchangeably.)\n",
    "\n",
    "### `ExperimentDataPipe` parameters explained\n",
    "\n",
    "The constructor only requires a single parameter, `experiment`, which is a `soma.Experiment` containing the data of the organism to be used for training.\n",
    "\n",
    "To retrieve a subset of the Experiment's data, along either the `obs` or `var` axes, you may specify query filters via the `obs_query` and `var_query` parameters, which are both `soma.AxisQuery` objects.\n",
    "\n",
    "The values for the prediction label(s) that you intend to use for training are specified via the `obs_column_names` array.\n",
    "\n",
    "The `batch_size` allows you to specify the number of obs rows (cells) to be returned by each return PyTorch tensor. You may exclude this parameter if you want single rows (`batch_size=1`).\n",
    "\n",
    "The `shuffle` flag allows you to randomize the ordering of the training data for each training epoch. Note:\n",
    "* You should use this flag instead of the `DataLoader` `shuffle` flag, as `DataLoader` does not support shuffling when used with an `IterDataPipe` dataset.\n",
    "* PyTorch's TorchData library provides a [Shuffler](https://pytorch.org/data/main/generated/torchdata.datapipes.iter.Shuffler.html) `DataPipe`, which is alternate mechanism one can use to perform shuffling of an `IterDataPipe`. However, the `Shuffler` will not \"globally\" randomize the training data, as it only \"locally\" randomizes the ordering of the training data within fixed-size \"windows\". Due to the layout of Census data, a given \"window\" of Census data may be highly homogeneous in terms of its `obs` axis attribute values, and so this shuffling strategy may not provide sufficient randomization for certain types of models.\n",
    "\n",
    "The `soma_chunk_size` sets the number of rows of data that are retrieved from the Census and held in memory at a given time. This controls\n",
    " the maximum memory usage of the `ExperimentDataPipe`. Smaller values will require less memory but will also result in lower read performance. If you are running out of memory when training a model, try reducing this value. The default is set to retrieve ~1GB of data per chunk, which takes into account how many `var` (gene) columns are being requested. This parameter also affects the granularity of the \"global\" shuffling step when `shuffle=True` (see ``shuffle`` parameter API docs for details).\n"
   ]
  },
  {
   "cell_type": "markdown",
   "metadata": {},
   "source": [
    "You can inspect the shape of the full dataset, without causing the full dataset to be loaded:"
   ]
  },
  {
   "cell_type": "code",
   "execution_count": 2,
   "metadata": {},
   "outputs": [
    {
     "data": {
      "text/plain": [
       "(15020, 60530)"
      ]
     },
     "execution_count": 2,
     "metadata": {},
     "output_type": "execute_result"
    }
   ],
   "source": [
    "experiment_datapipe.shape"
   ]
  },
  {
   "cell_type": "markdown",
   "metadata": {},
   "source": [
    "## Split the dataset\n",
    "\n",
    "You may split the overall dataset into the typical training, validation, and test sets by using the PyTorch [RandomSplitter](https://pytorch.org/data/main/generated/torchdata.datapipes.iter.RandomSplitter.html#torchdata.datapipes.iter.RandomSplitter) `DataPipe`. Using PyTorch's functional form for chaining `DataPipe`s, this is done as follows:"
   ]
  },
  {
   "cell_type": "code",
   "execution_count": 3,
   "metadata": {},
   "outputs": [],
   "source": [
    "train_datapipe, test_datapipe = experiment_datapipe.random_split(weights={\"train\": 0.8, \"test\": 0.2}, seed=1)"
   ]
  },
  {
   "cell_type": "markdown",
   "metadata": {},
   "source": [
    "## Create the DataLoader\n",
    "\n",
    "With the full set of DataPipe operations chained together, we can now instantiate a PyTorch [DataLoader](https://pytorch.org/docs/stable/data.html#torch.utils.data.DataLoader) on the training data. "
   ]
  },
  {
   "cell_type": "code",
   "execution_count": 4,
   "metadata": {},
   "outputs": [],
   "source": [
    "experiment_dataloader = soma_ml.experiment_dataloader(train_datapipe)"
   ]
  },
  {
   "cell_type": "markdown",
   "metadata": {},
   "source": [
    "Alternately, you can instantiate a `DataLoader` object directly via its constructor. However, many of the parameters are not usable with iterable-style DataPipes, which is the case for `ExperimentDataPipe`. In particular, the `shuffle`, `batch_size`, `sampler`, `batch_sampler`, `collate_fn` parameters should not be specified. Using `experiment_dataloader` helps enforce correct usage."
   ]
  },
  {
   "cell_type": "markdown",
   "metadata": {},
   "source": [
    "## Define the model\n",
    "\n",
    "With the training data retrieval code now in place, we can move on to defining a simple logistic regression model, using PyTorch's `torch.nn.Linear` class:"
   ]
  },
  {
   "cell_type": "code",
   "execution_count": 5,
   "metadata": {},
   "outputs": [],
   "source": [
    "import torch\n",
    "\n",
    "\n",
    "class LogisticRegression(torch.nn.Module):\n",
    "    def __init__(self, input_dim, output_dim):\n",
    "        super(LogisticRegression, self).__init__()  # noqa: UP008\n",
    "        self.linear = torch.nn.Linear(input_dim, output_dim)\n",
    "\n",
    "    def forward(self, x):\n",
    "        outputs = torch.sigmoid(self.linear(x))\n",
    "        return outputs"
   ]
  },
  {
   "cell_type": "markdown",
   "metadata": {},
   "source": [
    "Next, we define a function to train the model for a single epoch:"
   ]
  },
  {
   "cell_type": "code",
   "execution_count": 6,
   "metadata": {},
   "outputs": [],
   "source": [
    "def train_epoch(model, train_dataloader, loss_fn, optimizer, device):\n",
    "    model.train()\n",
    "    train_loss = 0\n",
    "    train_correct = 0\n",
    "    train_total = 0\n",
    "\n",
    "    for batch in train_dataloader:\n",
    "        optimizer.zero_grad()\n",
    "        X_batch, y_batch = batch\n",
    "\n",
    "        X_batch = X_batch.float().to(device)\n",
    "\n",
    "        # Perform prediction\n",
    "        outputs = model(X_batch)\n",
    "\n",
    "        # Determine the predicted label\n",
    "        probabilities = torch.nn.functional.softmax(outputs, 1)\n",
    "        predictions = torch.argmax(probabilities, axis=1)\n",
    "\n",
    "        # Compute the loss and perform back propagation\n",
    "\n",
    "        y_batch = y_batch.flatten()\n",
    "        y_batch = y_batch.to(device)\n",
    "\n",
    "        train_correct += (predictions == y_batch).sum().item()\n",
    "        train_total += len(predictions)\n",
    "\n",
    "        loss = loss_fn(outputs, y_batch.long())\n",
    "        train_loss += loss.item()\n",
    "        loss.backward()\n",
    "        optimizer.step()\n",
    "\n",
    "    train_loss /= train_total\n",
    "    train_accuracy = train_correct / train_total\n",
    "    return train_loss, train_accuracy"
   ]
  },
  {
   "cell_type": "markdown",
   "metadata": {},
   "source": [
    "Note the line, `X_batch, y_batch = batch`. Since the `train_dataloader` was configured with `batch_size=16`, these variables will hold tensors of rank 2. The `X_batch` tensor will appear, for example, as:\n",
    "\n",
    "```\n",
    "tensor([[0., 0., 0.,  ..., 1., 0., 0.],\n",
    "        [0., 0., 2.,  ..., 0., 3., 0.],\n",
    "        [0., 0., 0.,  ..., 0., 0., 0.],\n",
    "        ...,\n",
    "        [0., 0., 0.,  ..., 0., 0., 0.],\n",
    "        [0., 1., 0.,  ..., 0., 0., 0.],\n",
    "        [0., 0., 0.,  ..., 0., 0., 8.]])\n",
    "      \n",
    "```\n",
    "\n",
    "For `batch_size=1`, the tensors will be of rank 1. The `X_batch` tensor will appear, for example, as:\n",
    "\n",
    "```\n",
    "tensor([0., 0., 0.,  ..., 1., 0., 0.])\n",
    "```\n",
    "    \n",
    "For `y_batch`, this will contain the user-specified `obs` `cell_type` training labels. By default, these are encoded using a LabelEncoder and it will be a matrix where each column represents the encoded values of each column specified in `obs_column_names` when creating the datapipe (in this case, only the cell type). It will look like this:\n",
    "\n",
    "```\n",
    "tensor([1, 1, 3, ..., 2, 1, 4])\n",
    "\n",
    "```\n",
    "Note that cell type values are integer-encoded values, which can be decoded using `experiment_datapipe.obs_encoders` (more on this below).\n"
   ]
  },
  {
   "cell_type": "markdown",
   "metadata": {},
   "source": [
    "## Train the model\n",
    "\n",
    "Finally, we are ready to train the model. Here we instantiate the model, a loss function, and an optimization method and then iterate through the desired number of training epochs. Note how the `train_dataloader` is passed into `train_epoch`, where for each epoch it will provide a new iterator through the training dataset."
   ]
  },
  {
   "cell_type": "code",
   "execution_count": 7,
   "metadata": {},
   "outputs": [
    {
     "name": "stdout",
     "output_type": "stream",
     "text": [
      "Epoch 1: Train Loss: 0.0163386 Accuracy 0.2215\n",
      "Epoch 2: Train Loss: 0.0148250 Accuracy 0.3723\n",
      "Epoch 3: Train Loss: 0.0143327 Accuracy 0.5583\n",
      "Epoch 4: Train Loss: 0.0139834 Accuracy 0.6436\n",
      "Epoch 5: Train Loss: 0.0138071 Accuracy 0.7114\n",
      "Epoch 6: Train Loss: 0.0136847 Accuracy 0.7964\n",
      "Epoch 7: Train Loss: 0.0135645 Accuracy 0.8531\n",
      "Epoch 8: Train Loss: 0.0134926 Accuracy 0.8682\n",
      "Epoch 9: Train Loss: 0.0134195 Accuracy 0.8977\n",
      "Epoch 10: Train Loss: 0.0133746 Accuracy 0.9143\n"
     ]
    }
   ],
   "source": [
    "device = torch.device(\"cuda\") if torch.cuda.is_available() else torch.device(\"cpu\")\n",
    "\n",
    "# The size of the input dimension is the number of genes\n",
    "input_dim = experiment_datapipe.shape[1]\n",
    "\n",
    "# The size of the output dimension is the number of distinct cell_type values\n",
    "cell_type_encoder = experiment_datapipe.obs_encoders[\"cell_type\"]\n",
    "output_dim = len(cell_type_encoder.classes_)\n",
    "\n",
    "model = LogisticRegression(input_dim, output_dim).to(device)\n",
    "loss_fn = torch.nn.CrossEntropyLoss()\n",
    "optimizer = torch.optim.Adam(model.parameters(), lr=1e-05)\n",
    "\n",
    "for epoch in range(10):\n",
    "    train_loss, train_accuracy = train_epoch(model, experiment_dataloader, loss_fn, optimizer, device)\n",
    "    print(f\"Epoch {epoch + 1}: Train Loss: {train_loss:.7f} Accuracy {train_accuracy:.4f}\")"
   ]
  },
  {
   "cell_type": "markdown",
   "metadata": {},
   "source": [
    "## Make predictions with the model\n",
    "\n",
    "To make predictions with the model, we first create a new `DataLoader` using the `test_datapipe`, which provides the \"test\" split of the original dataset. For this example, we will only make predictions on a single batch of data from the test split."
   ]
  },
  {
   "cell_type": "code",
   "execution_count": 8,
   "metadata": {},
   "outputs": [],
   "source": [
    "experiment_dataloader = soma_ml.experiment_dataloader(test_datapipe)\n",
    "X_batch, y_batch = next(iter(experiment_dataloader))"
   ]
  },
  {
   "cell_type": "markdown",
   "metadata": {},
   "source": [
    "Next, we invoke the model on the `X_batch` input data and extract the predictions:"
   ]
  },
  {
   "cell_type": "code",
   "execution_count": 9,
   "metadata": {},
   "outputs": [
    {
     "data": {
      "text/plain": [
       "tensor([ 1,  8,  7,  5,  7,  1, 11,  1,  1,  5,  8,  7,  1,  1,  8,  1,  1,  1,\n",
       "         7,  8,  1,  1,  1,  1,  7,  1,  1,  1,  1,  1,  1,  5,  1,  8,  8,  8,\n",
       "         1,  8,  7,  8,  1,  5,  8,  7,  5,  1,  1,  7,  8,  1,  1, 11,  5,  7,\n",
       "         1,  1,  5,  1,  7,  1,  1,  1,  1,  6,  1,  8,  5,  1,  1,  5,  1,  8,\n",
       "         1,  1,  8,  7,  1,  1,  1,  8,  1,  1,  8,  7,  1,  1,  8,  7,  5,  7,\n",
       "         5,  1,  1,  1,  7,  7,  5,  7,  8,  5,  7,  7,  1,  6,  1,  1,  1,  1,\n",
       "         7,  1,  1,  8,  1,  8,  1,  8,  1,  1,  7,  5,  1,  1,  1,  5,  1, 11,\n",
       "         1,  1], device='cuda:0')"
      ]
     },
     "metadata": {},
     "output_type": "display_data"
    }
   ],
   "source": [
    "model.eval()\n",
    "\n",
    "model.to(device)\n",
    "outputs = model(X_batch.to(device))\n",
    "\n",
    "probabilities = torch.nn.functional.softmax(outputs, 1)\n",
    "predictions = torch.argmax(probabilities, axis=1)\n",
    "\n",
    "display(predictions)"
   ]
  },
  {
   "cell_type": "markdown",
   "metadata": {},
   "source": [
    "The predictions are returned as the encoded values of `cell_type` label. To recover the original cell type labels as strings, we decode using the encoders from `experiment_datapipe.obs_encoders`.\n",
    "\n",
    "At inference time, if the model inputs are not obtained via an `ExperimentDataPipe`, one could pickle the encoder at training time and save it along with the model. Then, at inference time it can be unpickled and used as shown below."
   ]
  },
  {
   "cell_type": "code",
   "execution_count": 10,
   "metadata": {},
   "outputs": [
    {
     "data": {
      "text/plain": [
       "array(['basal cell', 'leukocyte', 'keratinocyte', 'epithelial cell',\n",
       "       'keratinocyte', 'basal cell', 'vein endothelial cell',\n",
       "       'basal cell', 'basal cell', 'epithelial cell', 'leukocyte',\n",
       "       'keratinocyte', 'basal cell', 'basal cell', 'leukocyte',\n",
       "       'basal cell', 'basal cell', 'basal cell', 'keratinocyte',\n",
       "       'leukocyte', 'basal cell', 'basal cell', 'basal cell',\n",
       "       'basal cell', 'keratinocyte', 'basal cell', 'basal cell',\n",
       "       'basal cell', 'basal cell', 'basal cell', 'basal cell',\n",
       "       'epithelial cell', 'basal cell', 'leukocyte', 'leukocyte',\n",
       "       'leukocyte', 'basal cell', 'leukocyte', 'keratinocyte',\n",
       "       'leukocyte', 'basal cell', 'epithelial cell', 'leukocyte',\n",
       "       'keratinocyte', 'epithelial cell', 'basal cell', 'basal cell',\n",
       "       'keratinocyte', 'leukocyte', 'basal cell', 'basal cell',\n",
       "       'vein endothelial cell', 'epithelial cell', 'keratinocyte',\n",
       "       'basal cell', 'basal cell', 'epithelial cell', 'basal cell',\n",
       "       'keratinocyte', 'basal cell', 'basal cell', 'basal cell',\n",
       "       'basal cell', 'fibroblast', 'basal cell', 'leukocyte',\n",
       "       'epithelial cell', 'basal cell', 'basal cell', 'epithelial cell',\n",
       "       'basal cell', 'leukocyte', 'basal cell', 'basal cell', 'leukocyte',\n",
       "       'keratinocyte', 'basal cell', 'basal cell', 'basal cell',\n",
       "       'leukocyte', 'basal cell', 'basal cell', 'leukocyte',\n",
       "       'keratinocyte', 'basal cell', 'basal cell', 'leukocyte',\n",
       "       'keratinocyte', 'epithelial cell', 'keratinocyte',\n",
       "       'epithelial cell', 'basal cell', 'basal cell', 'basal cell',\n",
       "       'keratinocyte', 'keratinocyte', 'epithelial cell', 'keratinocyte',\n",
       "       'leukocyte', 'epithelial cell', 'keratinocyte', 'keratinocyte',\n",
       "       'basal cell', 'fibroblast', 'basal cell', 'basal cell',\n",
       "       'basal cell', 'basal cell', 'keratinocyte', 'basal cell',\n",
       "       'basal cell', 'leukocyte', 'basal cell', 'leukocyte', 'basal cell',\n",
       "       'leukocyte', 'basal cell', 'basal cell', 'keratinocyte',\n",
       "       'epithelial cell', 'basal cell', 'basal cell', 'basal cell',\n",
       "       'epithelial cell', 'basal cell', 'vein endothelial cell',\n",
       "       'basal cell', 'basal cell'], dtype=object)"
      ]
     },
     "metadata": {},
     "output_type": "display_data"
    }
   ],
   "source": [
    "cell_type_encoder = experiment_datapipe.obs_encoders[\"cell_type\"]\n",
    "\n",
    "predicted_cell_types = cell_type_encoder.inverse_transform(predictions.cpu())\n",
    "\n",
    "display(predicted_cell_types)"
   ]
  },
  {
   "cell_type": "markdown",
   "metadata": {},
   "source": [
    "Finally, we create a Pandas DataFrame to examine the predictions:"
   ]
  },
  {
   "cell_type": "code",
   "execution_count": 11,
   "metadata": {},
   "outputs": [
    {
     "data": {
      "text/html": [
       "<div>\n",
       "<style scoped>\n",
       "    .dataframe tbody tr th:only-of-type {\n",
       "        vertical-align: middle;\n",
       "    }\n",
       "\n",
       "    .dataframe tbody tr th {\n",
       "        vertical-align: top;\n",
       "    }\n",
       "\n",
       "    .dataframe thead th {\n",
       "        text-align: right;\n",
       "    }\n",
       "</style>\n",
       "<table border=\"1\" class=\"dataframe\">\n",
       "  <thead>\n",
       "    <tr style=\"text-align: right;\">\n",
       "      <th></th>\n",
       "      <th>actual cell type</th>\n",
       "      <th>predicted cell type</th>\n",
       "    </tr>\n",
       "  </thead>\n",
       "  <tbody>\n",
       "    <tr>\n",
       "      <th>0</th>\n",
       "      <td>keratinocyte</td>\n",
       "      <td>basal cell</td>\n",
       "    </tr>\n",
       "    <tr>\n",
       "      <th>1</th>\n",
       "      <td>leukocyte</td>\n",
       "      <td>leukocyte</td>\n",
       "    </tr>\n",
       "    <tr>\n",
       "      <th>2</th>\n",
       "      <td>keratinocyte</td>\n",
       "      <td>keratinocyte</td>\n",
       "    </tr>\n",
       "    <tr>\n",
       "      <th>3</th>\n",
       "      <td>epithelial cell</td>\n",
       "      <td>epithelial cell</td>\n",
       "    </tr>\n",
       "    <tr>\n",
       "      <th>4</th>\n",
       "      <td>keratinocyte</td>\n",
       "      <td>keratinocyte</td>\n",
       "    </tr>\n",
       "    <tr>\n",
       "      <th>...</th>\n",
       "      <td>...</td>\n",
       "      <td>...</td>\n",
       "    </tr>\n",
       "    <tr>\n",
       "      <th>123</th>\n",
       "      <td>epithelial cell</td>\n",
       "      <td>epithelial cell</td>\n",
       "    </tr>\n",
       "    <tr>\n",
       "      <th>124</th>\n",
       "      <td>basal cell</td>\n",
       "      <td>basal cell</td>\n",
       "    </tr>\n",
       "    <tr>\n",
       "      <th>125</th>\n",
       "      <td>capillary endothelial cell</td>\n",
       "      <td>vein endothelial cell</td>\n",
       "    </tr>\n",
       "    <tr>\n",
       "      <th>126</th>\n",
       "      <td>basal cell</td>\n",
       "      <td>basal cell</td>\n",
       "    </tr>\n",
       "    <tr>\n",
       "      <th>127</th>\n",
       "      <td>epithelial cell</td>\n",
       "      <td>basal cell</td>\n",
       "    </tr>\n",
       "  </tbody>\n",
       "</table>\n",
       "<p>128 rows × 2 columns</p>\n",
       "</div>"
      ],
      "text/plain": [
       "               actual cell type    predicted cell type\n",
       "0                  keratinocyte             basal cell\n",
       "1                     leukocyte              leukocyte\n",
       "2                  keratinocyte           keratinocyte\n",
       "3               epithelial cell        epithelial cell\n",
       "4                  keratinocyte           keratinocyte\n",
       "..                          ...                    ...\n",
       "123             epithelial cell        epithelial cell\n",
       "124                  basal cell             basal cell\n",
       "125  capillary endothelial cell  vein endothelial cell\n",
       "126                  basal cell             basal cell\n",
       "127             epithelial cell             basal cell\n",
       "\n",
       "[128 rows x 2 columns]"
      ]
     },
     "metadata": {},
     "output_type": "display_data"
    }
   ],
   "source": [
    "import pandas as pd\n",
    "\n",
    "display(\n",
    "    pd.DataFrame(\n",
    "        {\n",
    "            \"actual cell type\": cell_type_encoder.inverse_transform(y_batch.ravel().numpy()),\n",
    "            \"predicted cell type\": predicted_cell_types,\n",
    "        }\n",
    "    )\n",
    ")"
   ]
  }
 ],
 "metadata": {
  "kernelspec": {
   "display_name": "tiledbsoma-dev",
   "language": "python",
   "name": "python3"
  },
  "language_info": {
   "codemirror_mode": {
    "name": "ipython",
    "version": 3
   },
   "file_extension": ".py",
   "mimetype": "text/x-python",
   "name": "python",
   "nbconvert_exporter": "python",
   "pygments_lexer": "ipython3",
   "version": "3.11.0"
  }
 },
 "nbformat": 4,
 "nbformat_minor": 2
}
