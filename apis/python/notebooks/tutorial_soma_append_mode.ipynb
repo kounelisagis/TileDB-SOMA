{
 "cells": [
  {
   "cell_type": "markdown",
   "id": "7fb27b941602401d91542211134fc71a",
   "metadata": {
    "tags": []
   },
   "source": [
    "# Tutorial: TileDB-SOMA append-mode"
   ]
  },
  {
   "cell_type": "markdown",
   "id": "acae54e37e7d407bbb7b55eff062a284",
   "metadata": {
    "tags": []
   },
   "source": [
    "As of TileDB-SOMA 1.5.0, we're excited to offer support for append mode.\n",
    "\n",
    "Use-cases include ingesting H5AD/AnnData from multiple sequencing runs over time, accumulating the data over time, into millions of cells."
   ]
  },
  {
   "cell_type": "markdown",
   "id": "9a63283cbaf04dbcab1f6479b197f3a8",
   "metadata": {
    "tags": []
   },
   "source": [
    "First, we'll do the usual package imports:"
   ]
  },
  {
   "cell_type": "code",
   "execution_count": 1,
   "id": "8dd0d8092fe74a7c96281538738b07e2",
   "metadata": {
    "tags": []
   },
   "outputs": [
    {
     "name": "stdout",
     "output_type": "stream",
     "text": [
      "tiledbsoma.__version__              1.11.1\n",
      "TileDB-Py version                   0.29.0\n",
      "TileDB core version (tiledb)        2.23.0\n",
      "TileDB core version (libtiledbsoma) 2.23.0\n",
      "python version                      3.11.8.final.0\n",
      "OS version                          Linux 4.14.343-261.564.amzn2.x86_64\n"
     ]
    }
   ],
   "source": [
    "import scanpy as sc\n",
    "\n",
    "import tiledbsoma\n",
    "import tiledbsoma.io\n",
    "import tiledbsoma.logging\n",
    "\n",
    "tiledbsoma.show_package_versions()"
   ]
  },
  {
   "cell_type": "markdown",
   "id": "72eea5119410473aa328ad9291626812",
   "metadata": {
    "tags": []
   },
   "source": [
    "Next we'll set up where our data are going:"
   ]
  },
  {
   "cell_type": "code",
   "execution_count": 2,
   "id": "8edb47106e1a46a883d545849b8ab81b",
   "metadata": {
    "tags": []
   },
   "outputs": [
    {
     "data": {
      "text/plain": [
       "'/tmp/append-example-20240521-145833'"
      ]
     },
     "execution_count": 2,
     "metadata": {},
     "output_type": "execute_result"
    }
   ],
   "source": [
    "import datetime\n",
    "\n",
    "stamp = datetime.datetime.today().strftime(\"%Y%m%d-%H%M%S\")\n",
    "experiment_uri = f\"/tmp/append-example-{stamp}\"\n",
    "experiment_uri"
   ]
  },
  {
   "cell_type": "markdown",
   "id": "10185d26023b46108eb7d9f57d49d2b3",
   "metadata": {
    "tags": []
   },
   "source": [
    "For this demo, we're writing to `/tmp`, but URIs like the following allow storing data on TileDB Cloud, cloud storage such as S3, or instance-local NVME:\n",
    "\n",
    "- `/var/data/mysoma1`\n",
    "- `s3://mybucket/mysoma2`\n",
    "- `tiledb://mynamespace/s3://mybucket/mysoma3`\n",
    "\n",
    "Everything in this notebook below this URI-selection cell is agnostic to the storage backend."
   ]
  },
  {
   "cell_type": "markdown",
   "id": "8763a12b2bbd4a93a75aff182afb95dc",
   "metadata": {
    "tags": []
   },
   "source": [
    "## Create the initial SOMA Experiment"
   ]
  },
  {
   "cell_type": "markdown",
   "id": "7623eae2785240b9bd12b16a66d81610",
   "metadata": {
    "tags": []
   },
   "source": [
    "Next we'll prep some input data. To make things easy for this self-contained demo, we'll use Scanpy's `pbmc3k`, with a custom column."
   ]
  },
  {
   "cell_type": "code",
   "execution_count": 3,
   "id": "7cdc8c89c7104fffa095e18ddfef8986",
   "metadata": {
    "tags": []
   },
   "outputs": [],
   "source": [
    "ad1 = sc.datasets.pbmc3k()\n",
    "sc.pp.calculate_qc_metrics(ad1, inplace=True)\n",
    "ad1.obs[\"when\"] = [\"Monday\"] * len(ad1.obs)"
   ]
  },
  {
   "cell_type": "markdown",
   "id": "b118ea5561624da68c537baed56e602f",
   "metadata": {
    "tags": []
   },
   "source": [
    "Now we're ready to ingest the data into a SOMA experiment. Since SOMA is multimodal, we'll specify the destination modality, or measurement name, to be \"RNA\"."
   ]
  },
  {
   "cell_type": "code",
   "execution_count": 4,
   "id": "938c804e27f84196a10c8828c723f798",
   "metadata": {
    "tags": []
   },
   "outputs": [],
   "source": [
    "measurement_name = \"RNA\""
   ]
  },
  {
   "cell_type": "code",
   "execution_count": 5,
   "id": "504fb2a444614c0babb325280ed9130a",
   "metadata": {
    "tags": []
   },
   "outputs": [
    {
     "name": "stderr",
     "output_type": "stream",
     "text": [
      "Registration: registering isolated AnnData object.\n"
     ]
    },
    {
     "name": "stderr",
     "output_type": "stream",
     "text": [
      "Wrote   /tmp/append-example-20240521-145833/obs\n"
     ]
    },
    {
     "name": "stderr",
     "output_type": "stream",
     "text": [
      "Wrote   /tmp/append-example-20240521-145833/ms/RNA/var\n"
     ]
    },
    {
     "name": "stderr",
     "output_type": "stream",
     "text": [
      "Writing /tmp/append-example-20240521-145833/ms/RNA/X/data\n"
     ]
    },
    {
     "name": "stderr",
     "output_type": "stream",
     "text": [
      "<frozen abc>:119: FutureWarning: SparseDataset is deprecated and will be removed in late 2024. It has been replaced by the public classes CSRDataset and CSCDataset.\n",
      "\n",
      "For instance checks, use `isinstance(X, (anndata.experimental.CSRDataset, anndata.experimental.CSCDataset))` instead.\n",
      "\n",
      "For creation, use `anndata.experimental.sparse_dataset(X)` instead.\n",
      "\n"
     ]
    },
    {
     "name": "stderr",
     "output_type": "stream",
     "text": [
      "Wrote   /tmp/append-example-20240521-145833/ms/RNA/X/data\n"
     ]
    },
    {
     "name": "stderr",
     "output_type": "stream",
     "text": [
      "Wrote   /tmp/append-example-20240521-145833\n"
     ]
    },
    {
     "data": {
      "text/plain": [
       "'/tmp/append-example-20240521-145833'"
      ]
     },
     "execution_count": 5,
     "metadata": {},
     "output_type": "execute_result"
    }
   ],
   "source": [
    "tiledbsoma.logging.info()\n",
    "tiledbsoma.io.from_anndata(experiment_uri, ad1, measurement_name=measurement_name)"
   ]
  },
  {
   "cell_type": "markdown",
   "id": "59bbdb311c014d738909a11f9e486628",
   "metadata": {
    "tags": []
   },
   "source": [
    "Now let's read back the data. We'll take a look at `obs`, `var`, and `X`."
   ]
  },
  {
   "cell_type": "markdown",
   "id": "b43b363d81ae4b689946ece5c682cd59",
   "metadata": {
    "tags": []
   },
   "source": [
    "**obs**: For this initial ingest, there are obs IDs ending in `-1`, the `when` is `Monday`, and there are 2700 rows. Also note that since TileDB is a columnar database, when we select certain columns, those are the only ones loaded from disk. This positively impacts performance at cloud scale."
   ]
  },
  {
   "cell_type": "code",
   "execution_count": 6,
   "id": "8a65eabff63a45729fe45fb5ade58bdc",
   "metadata": {
    "tags": []
   },
   "outputs": [
    {
     "name": "stdout",
     "output_type": "stream",
     "text": [
      "                obs_id  n_genes_by_counts    when\n",
      "0     AAACATACAACCAC-1                781  Monday\n",
      "1     AAACATTGAGCTAC-1               1352  Monday\n",
      "2     AAACATTGATCAGC-1               1131  Monday\n",
      "3     AAACCGTGCTTCCG-1                960  Monday\n",
      "4     AAACCGTGTATGCG-1                522  Monday\n",
      "...                ...                ...     ...\n",
      "2695  TTTCGAACTCTCAT-1               1155  Monday\n",
      "2696  TTTCTACTGAGGCA-1               1227  Monday\n",
      "2697  TTTCTACTTCCTCG-1                622  Monday\n",
      "2698  TTTGCATGAGAGGC-1                454  Monday\n",
      "2699  TTTGCATGCCTCAC-1                724  Monday\n",
      "\n",
      "[2700 rows x 3 columns]\n"
     ]
    }
   ],
   "source": [
    "with tiledbsoma.Experiment.open(experiment_uri) as exp:\n",
    "    print(\n",
    "        exp.obs.read(column_names=[\"obs_id\", \"n_genes_by_counts\", \"when\"])\n",
    "        .concat()\n",
    "        .to_pandas()\n",
    "    )"
   ]
  },
  {
   "cell_type": "markdown",
   "id": "c3933fab20d04ec698c2621248eb3be0",
   "metadata": {
    "tags": []
   },
   "source": [
    "**var**: Let's also look at `var`, selecting out the join IDs (which index columns of `X`) as well as the Ensembl-format and NCBI-format gene IDs:"
   ]
  },
  {
   "cell_type": "code",
   "execution_count": 7,
   "id": "4dd4641cc4064e0191573fe9c69df29b",
   "metadata": {
    "tags": []
   },
   "outputs": [
    {
     "name": "stdout",
     "output_type": "stream",
     "text": [
      "       soma_joinid        var_id         gene_ids\n",
      "0                0    MIR1302-10  ENSG00000243485\n",
      "1                1       FAM138A  ENSG00000237613\n",
      "2                2         OR4F5  ENSG00000186092\n",
      "3                3  RP11-34P13.7  ENSG00000238009\n",
      "4                4  RP11-34P13.8  ENSG00000239945\n",
      "...            ...           ...              ...\n",
      "32733        32733    AC145205.1  ENSG00000215635\n",
      "32734        32734         BAGE5  ENSG00000268590\n",
      "32735        32735    CU459201.1  ENSG00000251180\n",
      "32736        32736    AC002321.2  ENSG00000215616\n",
      "32737        32737    AC002321.1  ENSG00000215611\n",
      "\n",
      "[32738 rows x 3 columns]\n"
     ]
    }
   ],
   "source": [
    "with tiledbsoma.Experiment.open(experiment_uri) as exp:\n",
    "    print(\n",
    "        exp.ms[\"RNA\"]\n",
    "        .var.read(column_names=[\"soma_joinid\", \"var_id\", \"gene_ids\"])\n",
    "        .concat()\n",
    "        .to_pandas()\n",
    "    )"
   ]
  },
  {
   "cell_type": "markdown",
   "id": "8309879909854d7188b41380fd92a7c3",
   "metadata": {
    "tags": []
   },
   "source": [
    "**X**: Lastly let's look at the expression matrix, in COO format. (You can convert to other formats if you like.) Its rows and columns are indexed by the `soma_joinid` of the `obs` and `var` dataframes, respectively."
   ]
  },
  {
   "cell_type": "code",
   "execution_count": 8,
   "id": "3ed186c9a28b402fb0bc4494df01f08d",
   "metadata": {
    "tags": []
   },
   "outputs": [
    {
     "name": "stdout",
     "output_type": "stream",
     "text": [
      "         soma_dim_0  soma_dim_1  soma_data\n",
      "0                 0          70        1.0\n",
      "1                 0         166        1.0\n",
      "2                 0         178        2.0\n",
      "3                 0         326        1.0\n",
      "4                 0         363        1.0\n",
      "...             ...         ...        ...\n",
      "2286879        2699       32697        1.0\n",
      "2286880        2699       32698        7.0\n",
      "2286881        2699       32702        1.0\n",
      "2286882        2699       32705        1.0\n",
      "2286883        2699       32708        3.0\n",
      "\n",
      "[2286884 rows x 3 columns]\n",
      "\n",
      "((0, 2699), (0, 32732))\n"
     ]
    }
   ],
   "source": [
    "with tiledbsoma.Experiment.open(experiment_uri) as exp:\n",
    "    X = exp.ms[\"RNA\"].X[\"data\"]\n",
    "    print(X.read().tables().concat().to_pandas())\n",
    "    print()\n",
    "    print(X.used_shape())"
   ]
  },
  {
   "cell_type": "markdown",
   "id": "cb1e1581032b452c9409d6c6813c49d1",
   "metadata": {
    "tags": []
   },
   "source": [
    "## Appending a new dataset to the SOMA Experiment"
   ]
  },
  {
   "cell_type": "markdown",
   "id": "379cbbc1e968416e875cc15c1202d7eb",
   "metadata": {
    "tags": []
   },
   "source": [
    "Now, let's simiulate another day's sequencing run. For simplicity of this demo notebook, we'll mutate the previous dataset, changing the obs IDs to have a `-2` suffix, and also putting `Tuesday` in the `when` column. Also, we'll multiply the `X` values by 10."
   ]
  },
  {
   "cell_type": "code",
   "execution_count": 9,
   "id": "277c27b1587741f2af2001be3712ef0d",
   "metadata": {
    "tags": []
   },
   "outputs": [],
   "source": [
    "ad2 = ad1.copy()\n",
    "ad2.obs.index = [e.replace(\"-1\", \"-2\") for e in ad1.obs.index]\n",
    "ad2.obs[\"when\"] = [\"Tuesday\"] * len(ad2.obs)"
   ]
  },
  {
   "cell_type": "code",
   "execution_count": 10,
   "id": "db7b79bc585a40fcaf58bf750017e135",
   "metadata": {
    "tags": []
   },
   "outputs": [],
   "source": [
    "ad2.X *= 10"
   ]
  },
  {
   "cell_type": "markdown",
   "id": "916684f9a58a4a2aa5f864670399430d",
   "metadata": {
    "tags": []
   },
   "source": [
    "Now we simply ingest as before -- the only additional step is a black-box registration step which detects which cell IDs are new (here, all of them) and which gene IDs are new (here, none of them).\n",
    "\n",
    "The registration takes two forms, either of which you can use depending on your use-case: `tiledbsoma.io.register_anndatas` for in-memory AnnData objects, or `tiledbsoma.io.register_h5ads` for on-storage AnnData objects."
   ]
  },
  {
   "cell_type": "code",
   "execution_count": 11,
   "id": "1671c31a24314836a5b85d7ef7fbf015",
   "metadata": {
    "tags": []
   },
   "outputs": [
    {
     "name": "stderr",
     "output_type": "stream",
     "text": [
      "Registration: starting with experiment /tmp/append-example-20240521-145833\n"
     ]
    },
    {
     "name": "stderr",
     "output_type": "stream",
     "text": [
      "Registration: found nobs=2700 nvar=32738 from experiment.\n"
     ]
    },
    {
     "name": "stderr",
     "output_type": "stream",
     "text": [
      "Registration: registering AnnData object.\n"
     ]
    },
    {
     "name": "stderr",
     "output_type": "stream",
     "text": [
      "Registration: accumulated to nobs=5400 nvar=32738.\n"
     ]
    },
    {
     "name": "stderr",
     "output_type": "stream",
     "text": [
      "Registration: complete.\n"
     ]
    },
    {
     "name": "stderr",
     "output_type": "stream",
     "text": [
      "Wrote   /tmp/append-example-20240521-145833/obs\n"
     ]
    },
    {
     "name": "stderr",
     "output_type": "stream",
     "text": [
      "Wrote   /tmp/append-example-20240521-145833/ms/RNA/var\n"
     ]
    },
    {
     "name": "stderr",
     "output_type": "stream",
     "text": [
      "Writing /tmp/append-example-20240521-145833/ms/RNA/X/data\n"
     ]
    },
    {
     "name": "stderr",
     "output_type": "stream",
     "text": [
      "Wrote   /tmp/append-example-20240521-145833/ms/RNA/X/data\n"
     ]
    },
    {
     "name": "stderr",
     "output_type": "stream",
     "text": [
      "Wrote   /tmp/append-example-20240521-145833\n"
     ]
    },
    {
     "data": {
      "text/plain": [
       "'/tmp/append-example-20240521-145833'"
      ]
     },
     "execution_count": 11,
     "metadata": {},
     "output_type": "execute_result"
    }
   ],
   "source": [
    "rd = tiledbsoma.io.register_anndatas(\n",
    "    experiment_uri,\n",
    "    [ad2],\n",
    "    measurement_name=measurement_name,\n",
    "    obs_field_name=\"obs_id\",\n",
    "    var_field_name=\"var_id\",\n",
    ")\n",
    "\n",
    "tiledbsoma.io.from_anndata(\n",
    "    experiment_uri,\n",
    "    ad2,\n",
    "    measurement_name=measurement_name,\n",
    "    registration_mapping=rd,\n",
    ")"
   ]
  },
  {
   "cell_type": "markdown",
   "id": "33b0902fd34d4ace834912fa1002cf8e",
   "metadata": {
    "tags": []
   },
   "source": [
    "Now let's read back the appended data. There are now obs IDs ending in `-1` as well as `-2`, the `when` includes `Monday` as well as `Tuesday`, and there are 5400 rows.\n",
    "\n",
    "(For `Wednesday` and onward, it'll simply be the same pattern -- we can grow our data iteratively over time, to arbitrary sizes.)"
   ]
  },
  {
   "cell_type": "code",
   "execution_count": 12,
   "id": "f6fa52606d8c4a75a9b52967216f8f3f",
   "metadata": {
    "tags": []
   },
   "outputs": [
    {
     "name": "stdout",
     "output_type": "stream",
     "text": [
      "                obs_id  n_genes_by_counts     when\n",
      "0     AAACATACAACCAC-1                781   Monday\n",
      "1     AAACATTGAGCTAC-1               1352   Monday\n",
      "2     AAACATTGATCAGC-1               1131   Monday\n",
      "3     AAACCGTGCTTCCG-1                960   Monday\n",
      "4     AAACCGTGTATGCG-1                522   Monday\n",
      "...                ...                ...      ...\n",
      "5395  TTTCGAACTCTCAT-2               1155  Tuesday\n",
      "5396  TTTCTACTGAGGCA-2               1227  Tuesday\n",
      "5397  TTTCTACTTCCTCG-2                622  Tuesday\n",
      "5398  TTTGCATGAGAGGC-2                454  Tuesday\n",
      "5399  TTTGCATGCCTCAC-2                724  Tuesday\n",
      "\n",
      "[5400 rows x 3 columns]\n"
     ]
    }
   ],
   "source": [
    "with tiledbsoma.Experiment.open(experiment_uri) as exp:\n",
    "    print(\n",
    "        exp.obs.read(column_names=[\"obs_id\", \"n_genes_by_counts\", \"when\"])\n",
    "        .concat()\n",
    "        .to_pandas()\n",
    "    )"
   ]
  },
  {
   "cell_type": "markdown",
   "id": "f5a1fa73e5044315a093ec459c9be902",
   "metadata": {
    "tags": []
   },
   "source": [
    "Let's also look at `var`, as before. Since we had data for more cells but for the same genes, there is nothing new here. The `obs` table grew downward with the new cells, and `X` grew downward with new rows, but `var` stayed the same.\n",
    "\n",
    "In real-world data, occasionally you will see a gene expressed in subsequent data which wasn't expressed in the initial data. That's fine -- you'll simply see `var` grow just a bit for those newly encountered gene IDs, with corresponding new columns for `X`."
   ]
  },
  {
   "cell_type": "code",
   "execution_count": 13,
   "id": "cdf66aed5cc84ca1b48e60bad68798a8",
   "metadata": {
    "tags": []
   },
   "outputs": [
    {
     "name": "stdout",
     "output_type": "stream",
     "text": [
      "       soma_joinid        var_id         gene_ids\n",
      "0                0    MIR1302-10  ENSG00000243485\n",
      "1                1       FAM138A  ENSG00000237613\n",
      "2                2         OR4F5  ENSG00000186092\n",
      "3                3  RP11-34P13.7  ENSG00000238009\n",
      "4                4  RP11-34P13.8  ENSG00000239945\n",
      "...            ...           ...              ...\n",
      "32733        32733    AC145205.1  ENSG00000215635\n",
      "32734        32734         BAGE5  ENSG00000268590\n",
      "32735        32735    CU459201.1  ENSG00000251180\n",
      "32736        32736    AC002321.2  ENSG00000215616\n",
      "32737        32737    AC002321.1  ENSG00000215611\n",
      "\n",
      "[32738 rows x 3 columns]\n"
     ]
    }
   ],
   "source": [
    "with tiledbsoma.Experiment.open(experiment_uri) as exp:\n",
    "    print(\n",
    "        exp.ms[\"RNA\"]\n",
    "        .var.read(column_names=[\"soma_joinid\", \"var_id\", \"gene_ids\"])\n",
    "        .concat()\n",
    "        .to_pandas()\n",
    "    )"
   ]
  },
  {
   "cell_type": "markdown",
   "id": "28d3efd5258a48a79c179ea5c6759f01",
   "metadata": {
    "tags": []
   },
   "source": [
    "And lastly, the `X` expression matrix which has grown downward with the new cells, while keeping the same width as we didn't introduce new genes:"
   ]
  },
  {
   "cell_type": "code",
   "execution_count": 14,
   "id": "3f9bc0b9dd2c44919cc8dcca39b469f8",
   "metadata": {
    "tags": []
   },
   "outputs": [
    {
     "name": "stdout",
     "output_type": "stream",
     "text": [
      "         soma_dim_0  soma_dim_1  soma_data\n",
      "0                 0          70        1.0\n",
      "1                 0         166        1.0\n",
      "2                 0         178        2.0\n",
      "3                 0         326        1.0\n",
      "4                 0         363        1.0\n",
      "...             ...         ...        ...\n",
      "4573763        5399       32697       10.0\n",
      "4573764        5399       32698       70.0\n",
      "4573765        5399       32702       10.0\n",
      "4573766        5399       32705       10.0\n",
      "4573767        5399       32708       30.0\n",
      "\n",
      "[4573768 rows x 3 columns]\n",
      "\n",
      "((0, 5399), (0, 32732))\n"
     ]
    }
   ],
   "source": [
    "with tiledbsoma.Experiment.open(experiment_uri) as exp:\n",
    "    X = exp.ms[\"RNA\"].X[\"data\"]\n",
    "    print(X.read().tables().concat().to_pandas())\n",
    "    print()\n",
    "    print(X.used_shape())"
   ]
  },
  {
   "cell_type": "markdown",
   "id": "0e382214b5f147d187d36a2058b9c724",
   "metadata": {
    "tags": []
   },
   "source": [
    "## Ingesting multiple datasets to a SOMA Experiment"
   ]
  },
  {
   "cell_type": "markdown",
   "id": "5b09d5ef5b5e4bb6ab9b829b10b6a29f",
   "metadata": {
    "tags": []
   },
   "source": [
    "Finally, we'll demonstrate combining multiple AnnDatas into one new experiment.\n",
    "\n",
    "The flow is pretty similar to the above:\n",
    "\n",
    "1. One call to `register_anndatas` or `register_h5ads` (passing all input AnnDatas/h5ads)\n",
    "2. One call to `from_anndata`/`from_h5ad` *for each input AnnData*\n",
    "\n",
    "Here's a helper function to simulate multiple lab runs. As above, where we used `pbmc3k` to simulate Monday and Tuesday data, here we use `pbmc3k` to simulate multiple AnnData objects."
   ]
  },
  {
   "cell_type": "code",
   "execution_count": 15,
   "id": "a50416e276a0479cbe66534ed1713a40",
   "metadata": {
    "tags": []
   },
   "outputs": [],
   "source": [
    "def make_ad(when, scale, obs_id_suffix):\n",
    "    ad = ad1.copy()\n",
    "    ad.obs.index = [e.replace(\"-1\", obs_id_suffix) for e in ad.obs.index]\n",
    "    ad.obs[\"when\"] = [when] * len(ad.obs)\n",
    "    ad.X *= scale\n",
    "    return ad\n",
    "\n",
    "ads = [\n",
    "    make_ad(when, scale, f\"-{idx + 3}\")\n",
    "    for idx, (when, scale)\n",
    "    in enumerate({\n",
    "        \"Wednesday\": 20,\n",
    "        \"Thursday\": 30,\n",
    "        \"Friday\": 40,\n",
    "    }.items())\n",
    "]"
   ]
  },
  {
   "cell_type": "markdown",
   "id": "46a27a456b804aa2a380d5edf15a5daf",
   "metadata": {
    "tags": []
   },
   "source": [
    "We'll ingest these AnnData objects, as before, but this time to a fresh/empty `/tmp` location:"
   ]
  },
  {
   "cell_type": "code",
   "execution_count": 16,
   "id": "1944c39560714e6e80c856f20744a8e5",
   "metadata": {
    "tags": []
   },
   "outputs": [
    {
     "data": {
      "text/plain": [
       "'/tmp/append-example-20240521-145839'"
      ]
     },
     "execution_count": 16,
     "metadata": {},
     "output_type": "execute_result"
    }
   ],
   "source": [
    "stamp = datetime.datetime.today().strftime(\"%Y%m%d-%H%M%S\")\n",
    "experiment_uri = f\"/tmp/append-example-{stamp}\"\n",
    "experiment_uri"
   ]
  },
  {
   "cell_type": "markdown",
   "id": "d6ca27006b894b04b6fc8b79396e2797",
   "metadata": {
    "tags": []
   },
   "source": [
    "Here we'll register all the AnnData objects. Note that the SOMA Experiment doesn't exist yet, so we pass `experiment_uri=None` to signify that."
   ]
  },
  {
   "cell_type": "code",
   "execution_count": 17,
   "id": "f61877af4e7f4313ad8234302950b331",
   "metadata": {
    "tags": []
   },
   "outputs": [
    {
     "name": "stderr",
     "output_type": "stream",
     "text": [
      "Registration: registering AnnData object.\n"
     ]
    },
    {
     "name": "stderr",
     "output_type": "stream",
     "text": [
      "Registration: accumulated to nobs=2700 nvar=32738.\n"
     ]
    },
    {
     "name": "stderr",
     "output_type": "stream",
     "text": [
      "Registration: registering AnnData object.\n"
     ]
    },
    {
     "name": "stderr",
     "output_type": "stream",
     "text": [
      "Registration: accumulated to nobs=5400 nvar=32738.\n"
     ]
    },
    {
     "name": "stderr",
     "output_type": "stream",
     "text": [
      "Registration: registering AnnData object.\n"
     ]
    },
    {
     "name": "stderr",
     "output_type": "stream",
     "text": [
      "Registration: accumulated to nobs=8100 nvar=32738.\n"
     ]
    },
    {
     "name": "stderr",
     "output_type": "stream",
     "text": [
      "Registration: complete.\n"
     ]
    }
   ],
   "source": [
    "rd2 = tiledbsoma.io.register_anndatas(\n",
    "    experiment_uri=None,  # new Experiment, from scratch\n",
    "    adatas=ads,\n",
    "    measurement_name=measurement_name,\n",
    "    obs_field_name=\"obs_id\",\n",
    "    var_field_name=\"var_id\",\n",
    ")"
   ]
  },
  {
   "cell_type": "markdown",
   "id": "84d5ab97d17b4c38ab41a2b065bbd0c0",
   "metadata": {
    "tags": []
   },
   "source": [
    "Now that we've gotten the registrations for all the input AnnData objects, we can ingest them.\n",
    "\n",
    "Note:\n",
    "\n",
    "- Here we ingest them sequentially, in the same order as above.\n",
    "- But we could also ingest them in any shuffled order.\n",
    "- Or we could have multiple workers in ingest them in parallel, one worker per AnnData object, as long as the registration data are passed to each worker."
   ]
  },
  {
   "cell_type": "code",
   "execution_count": 18,
   "id": "35ffc1ce1c7b4df9ace1bc936b8b1dc2",
   "metadata": {
    "tags": []
   },
   "outputs": [
    {
     "name": "stderr",
     "output_type": "stream",
     "text": [
      "Wrote   /tmp/append-example-20240521-145839/obs\n"
     ]
    },
    {
     "name": "stderr",
     "output_type": "stream",
     "text": [
      "Wrote   /tmp/append-example-20240521-145839/ms/RNA/var\n"
     ]
    },
    {
     "name": "stderr",
     "output_type": "stream",
     "text": [
      "Writing /tmp/append-example-20240521-145839/ms/RNA/X/data\n"
     ]
    },
    {
     "name": "stderr",
     "output_type": "stream",
     "text": [
      "Wrote   /tmp/append-example-20240521-145839/ms/RNA/X/data\n"
     ]
    },
    {
     "name": "stderr",
     "output_type": "stream",
     "text": [
      "Wrote   /tmp/append-example-20240521-145839\n"
     ]
    },
    {
     "name": "stderr",
     "output_type": "stream",
     "text": [
      "Wrote   /tmp/append-example-20240521-145839/obs\n"
     ]
    },
    {
     "name": "stderr",
     "output_type": "stream",
     "text": [
      "Wrote   /tmp/append-example-20240521-145839/ms/RNA/var\n"
     ]
    },
    {
     "name": "stderr",
     "output_type": "stream",
     "text": [
      "Writing /tmp/append-example-20240521-145839/ms/RNA/X/data\n"
     ]
    },
    {
     "name": "stderr",
     "output_type": "stream",
     "text": [
      "Wrote   /tmp/append-example-20240521-145839/ms/RNA/X/data\n"
     ]
    },
    {
     "name": "stderr",
     "output_type": "stream",
     "text": [
      "Wrote   /tmp/append-example-20240521-145839\n"
     ]
    },
    {
     "name": "stderr",
     "output_type": "stream",
     "text": [
      "Wrote   /tmp/append-example-20240521-145839/obs\n"
     ]
    },
    {
     "name": "stderr",
     "output_type": "stream",
     "text": [
      "Wrote   /tmp/append-example-20240521-145839/ms/RNA/var\n"
     ]
    },
    {
     "name": "stderr",
     "output_type": "stream",
     "text": [
      "Writing /tmp/append-example-20240521-145839/ms/RNA/X/data\n"
     ]
    },
    {
     "name": "stderr",
     "output_type": "stream",
     "text": [
      "Wrote   /tmp/append-example-20240521-145839/ms/RNA/X/data\n"
     ]
    },
    {
     "name": "stderr",
     "output_type": "stream",
     "text": [
      "Wrote   /tmp/append-example-20240521-145839\n"
     ]
    }
   ],
   "source": [
    "for ad in ads:\n",
    "    tiledbsoma.io.from_anndata(\n",
    "        experiment_uri,\n",
    "        ad,\n",
    "        measurement_name=measurement_name,\n",
    "        registration_mapping=rd2,\n",
    "    )"
   ]
  },
  {
   "cell_type": "markdown",
   "id": "76127f4a2f6a44fba749ea7800e59d51",
   "metadata": {
    "tags": []
   },
   "source": [
    "Reading back the concatenated data, we see 2700 rows for each of {`-3`, `-4`, `-5`}:"
   ]
  },
  {
   "cell_type": "code",
   "execution_count": 19,
   "id": "903197826d2e44dfa0208e8f97c69327",
   "metadata": {
    "tags": []
   },
   "outputs": [
    {
     "name": "stdout",
     "output_type": "stream",
     "text": [
      "                obs_id  n_genes_by_counts       when\n",
      "0     AAACATACAACCAC-3                781  Wednesday\n",
      "1     AAACATTGAGCTAC-3               1352  Wednesday\n",
      "2     AAACATTGATCAGC-3               1131  Wednesday\n",
      "3     AAACCGTGCTTCCG-3                960  Wednesday\n",
      "4     AAACCGTGTATGCG-3                522  Wednesday\n",
      "...                ...                ...        ...\n",
      "8095  TTTCGAACTCTCAT-5               1155     Friday\n",
      "8096  TTTCTACTGAGGCA-5               1227     Friday\n",
      "8097  TTTCTACTTCCTCG-5                622     Friday\n",
      "8098  TTTGCATGAGAGGC-5                454     Friday\n",
      "8099  TTTGCATGCCTCAC-5                724     Friday\n",
      "\n",
      "[8100 rows x 3 columns]\n"
     ]
    }
   ],
   "source": [
    "with tiledbsoma.Experiment.open(experiment_uri) as exp:\n",
    "    print(\n",
    "        exp.obs.read(column_names=[\"obs_id\", \"n_genes_by_counts\", \"when\"])\n",
    "        .concat()\n",
    "        .to_pandas()\n",
    "    )"
   ]
  },
  {
   "cell_type": "markdown",
   "id": "015066fb96f841e5be1e03a9eaadc3b6",
   "metadata": {
    "tags": []
   },
   "source": [
    "`var` is the same as in the single original Anndata objects (since we added more cells with all the same genes):"
   ]
  },
  {
   "cell_type": "code",
   "execution_count": 20,
   "id": "81ff116bae5b45f6b6dae177083008cf",
   "metadata": {
    "tags": []
   },
   "outputs": [
    {
     "name": "stdout",
     "output_type": "stream",
     "text": [
      "       soma_joinid        var_id         gene_ids\n",
      "0                0    MIR1302-10  ENSG00000243485\n",
      "1                1       FAM138A  ENSG00000237613\n",
      "2                2         OR4F5  ENSG00000186092\n",
      "3                3  RP11-34P13.7  ENSG00000238009\n",
      "4                4  RP11-34P13.8  ENSG00000239945\n",
      "...            ...           ...              ...\n",
      "32733        32733    AC145205.1  ENSG00000215635\n",
      "32734        32734         BAGE5  ENSG00000268590\n",
      "32735        32735    CU459201.1  ENSG00000251180\n",
      "32736        32736    AC002321.2  ENSG00000215616\n",
      "32737        32737    AC002321.1  ENSG00000215611\n",
      "\n",
      "[32738 rows x 3 columns]\n"
     ]
    }
   ],
   "source": [
    "with tiledbsoma.Experiment.open(experiment_uri) as exp:\n",
    "    print(\n",
    "        exp.ms[\"RNA\"]\n",
    "        .var.read(column_names=[\"soma_joinid\", \"var_id\", \"gene_ids\"])\n",
    "        .concat()\n",
    "        .to_pandas()\n",
    "    )"
   ]
  },
  {
   "cell_type": "markdown",
   "id": "9075f00cfa8d463f84130041b1e44ca7",
   "metadata": {
    "tags": []
   },
   "source": [
    "Finally, the `X` expression matrix contains 3x the entries as the original, but is also the same width (since we didn't introduce new genes):"
   ]
  },
  {
   "cell_type": "code",
   "execution_count": 21,
   "id": "15abde8c5d2e435093904b13db685a53",
   "metadata": {
    "tags": []
   },
   "outputs": [
    {
     "name": "stdout",
     "output_type": "stream",
     "text": [
      "         soma_dim_0  soma_dim_1  soma_data\n",
      "0                 0          70       20.0\n",
      "1                 0         166       20.0\n",
      "2                 0         178       40.0\n",
      "3                 0         326       20.0\n",
      "4                 0         363       20.0\n",
      "...             ...         ...        ...\n",
      "6860647        8099       32697       40.0\n",
      "6860648        8099       32698      280.0\n",
      "6860649        8099       32702       40.0\n",
      "6860650        8099       32705       40.0\n",
      "6860651        8099       32708      120.0\n",
      "\n",
      "[6860652 rows x 3 columns]\n",
      "\n",
      "((0, 8099), (0, 32732))\n"
     ]
    }
   ],
   "source": [
    "with tiledbsoma.Experiment.open(experiment_uri) as exp:\n",
    "    X = exp.ms[\"RNA\"].X[\"data\"]\n",
    "    print(X.read().tables().concat().to_pandas())\n",
    "    print()\n",
    "    print(X.used_shape())"
   ]
  }
 ],
 "metadata": {
  "kernelspec": {
   "display_name": "Python 3 (ipykernel)",
   "language": "python",
   "name": "python3"
  },
  "language_info": {
   "codemirror_mode": {
    "name": "ipython",
    "version": 3
   },
   "file_extension": ".py",
   "mimetype": "text/x-python",
   "name": "python",
   "nbconvert_exporter": "python",
   "pygments_lexer": "ipython3",
   "version": "3.11.8"
  }
 },
 "nbformat": 4,
 "nbformat_minor": 5
}
